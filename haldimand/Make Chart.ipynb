{
 "cells": [
  {
   "cell_type": "code",
   "execution_count": 1,
   "id": "ee2628a4",
   "metadata": {},
   "outputs": [],
   "source": [
    "import pandas as pd\n",
    "import pygraphviz as pgv\n",
    "import datetime\n",
    "import dateutil.parser"
   ]
  },
  {
   "cell_type": "code",
   "execution_count": 2,
   "id": "169bc7f5",
   "metadata": {},
   "outputs": [],
   "source": [
    "workspace = pd.read_excel(\"Beach Lineage.xlsx\", sheet_name=None, dtype=str)\n",
    "for df in workspace.values():\n",
    "    for col in df.columns:\n",
    "        df[col] = df[col].map(lambda s: s.strip() if pd.notna(s) else s)"
   ]
  },
  {
   "cell_type": "code",
   "execution_count": 3,
   "id": "874c0aa1",
   "metadata": {},
   "outputs": [
    {
     "name": "stderr",
     "output_type": "stream",
     "text": [
      "/var/folders/f8/snw3tlcs0y3bmnq5gqg26b5h0000gn/T/ipykernel_53632/1951644906.py:9: SettingWithCopyWarning: \n",
      "A value is trying to be set on a copy of a slice from a DataFrame.\n",
      "Try using .loc[row_indexer,col_indexer] = value instead\n",
      "\n",
      "See the caveats in the documentation: https://pandas.pydata.org/pandas-docs/stable/user_guide/indexing.html#returning-a-view-versus-a-copy\n",
      "  people_df[key] = people_df[key].map(_parse_year)\n",
      "/var/folders/f8/snw3tlcs0y3bmnq5gqg26b5h0000gn/T/ipykernel_53632/1951644906.py:16: SettingWithCopyWarning: \n",
      "A value is trying to be set on a copy of a slice from a DataFrame.\n",
      "Try using .loc[row_indexer,col_indexer] = value instead\n",
      "\n",
      "See the caveats in the documentation: https://pandas.pydata.org/pandas-docs/stable/user_guide/indexing.html#returning-a-view-versus-a-copy\n",
      "  relations_df[\"Year\"] = relations_df[\"Year\"].map(_parse_year)\n"
     ]
    }
   ],
   "source": [
    "people_df = workspace[\"People\"]\n",
    "people_df = people_df[people_df[\"Name\"].notna()]\n",
    "\n",
    "def _parse_year(s):\n",
    "    if s and pd.notna(s):\n",
    "        return dateutil.parser.parse(s).year\n",
    "\n",
    "for key in [\"Born\", \"Died\"]:\n",
    "    people_df[key] = people_df[key].map(_parse_year)\n",
    "\n",
    "relations_df = workspace[\"Relationships\"]\n",
    "relations_df[\"Relationship\"] = relations_df[\"Relationship\"].map(\n",
    "    lambda s: s.lower().removeprefix(\"is \") if s and pd.notna(s) else \"\"\n",
    ")\n",
    "relations_df = relations_df[relations_df[\"Source Person\"].notna()]\n",
    "relations_df[\"Year\"] = relations_df[\"Year\"].map(_parse_year)"
   ]
  },
  {
   "cell_type": "code",
   "execution_count": 4,
   "id": "6d96626a",
   "metadata": {},
   "outputs": [],
   "source": [
    "def get_label(name, born, died):\n",
    "    rv = name\n",
    "    if born and pd.notna(born):\n",
    "        if isinstance(born, int):\n",
    "            pass\n",
    "        elif isinstance(born, datetime.datetime):\n",
    "            born = born.year\n",
    "        if died and pd.notna(died):\n",
    "            if isinstance(died, datetime.datetime):\n",
    "                died = died.year\n",
    "            rv += f\"\\nBorn: {int(born)}, Died: {int(died)}\"\n",
    "        else:\n",
    "            rv += f\"\\nBorn: {int(born)}\"\n",
    "    return rv"
   ]
  },
  {
   "cell_type": "code",
   "execution_count": 5,
   "id": "5fd676a6",
   "metadata": {},
   "outputs": [],
   "source": [
    "graph = pgv.AGraph(\n",
    "    strict=True,\n",
    "    directed=True,\n",
    ")\n",
    "\n",
    "for name, gender, _title, born, died, *_ in people_df.values:\n",
    "    if not gender or pd.isna(gender):\n",
    "        color = \"black\"\n",
    "    elif gender.lower() in {\"m\", \"male\"}:\n",
    "        color = \"blue\"\n",
    "    else:\n",
    "        color = \"red\"\n",
    "    \n",
    "    graph.add_node(\n",
    "        name,\n",
    "        # shape=\"square\",\n",
    "        color=color,\n",
    "        # style=\"filled\",\n",
    "        # fontsize=10,\n",
    "        # fillcolor=color,\n",
    "        label=get_label(name, born, died),\n",
    "        # fixedsize=\"true\",\n",
    "        # width=0.2,\n",
    "        # height=0.2,\n",
    "    )\n",
    "\n",
    "for s, p, o, year in relations_df.values:\n",
    "    if p == \"child of\":\n",
    "        graph.add_edge(o, s, label=\"parent of\")  \n",
    "    elif p == \"married to\":\n",
    "        label = \"married to\"\n",
    "        if pd.notna(year):\n",
    "            label = f\"{label}\\n({int(year)})\"\n",
    "        graph.add_edge(o, s, label=label) \n",
    "    else:\n",
    "        graph.add_edge(s, o, label=p)    \n",
    "\n",
    "graph.draw(\"diagram.pdf\", prog=\"dot\")"
   ]
  }
 ],
 "metadata": {
  "kernelspec": {
   "display_name": "Python 3 (ipykernel)",
   "language": "python",
   "name": "python3"
  },
  "language_info": {
   "codemirror_mode": {
    "name": "ipython",
    "version": 3
   },
   "file_extension": ".py",
   "mimetype": "text/x-python",
   "name": "python",
   "nbconvert_exporter": "python",
   "pygments_lexer": "ipython3",
   "version": "3.10.12"
  }
 },
 "nbformat": 4,
 "nbformat_minor": 5
}
